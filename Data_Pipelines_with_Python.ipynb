{
  "nbformat": 4,
  "nbformat_minor": 0,
  "metadata": {
    "colab": {
      "provenance": []
    },
    "kernelspec": {
      "name": "python3",
      "display_name": "Python 3"
    },
    "language_info": {
      "name": "python"
    }
  },
  "cells": [
    {
      "cell_type": "code",
      "execution_count": 3,
      "metadata": {
        "id": "Uwjnhit2BIJz"
      },
      "outputs": [],
      "source": [
        "# Data Pipelines\n",
        "# Extract Data, Transform, Load and Analyze.\n",
        "import pandas as pd"
      ]
    },
    {
      "cell_type": "code",
      "source": [
        "# Functions\n",
        "# Extract data\n",
        "def extract_csv(filename):\n",
        "  data = pd.read_csv(filename)\n",
        "  return data\n",
        "\n",
        "# transform\n",
        "def transform_data(dataframe):\n",
        "  # Remove duplicates\n",
        "  dataframe = dataframe.drop_duplicates()\n",
        "  # remove nulls\n",
        "  dataframe = data.dropna()\n",
        "  return dataframe"
      ],
      "metadata": {
        "id": "PHA23c1DCGZ7"
      },
      "execution_count": 4,
      "outputs": []
    },
    {
      "cell_type": "code",
      "source": [],
      "metadata": {
        "id": "JUnqwKxKFCF9"
      },
      "execution_count": null,
      "outputs": []
    }
  ]
}